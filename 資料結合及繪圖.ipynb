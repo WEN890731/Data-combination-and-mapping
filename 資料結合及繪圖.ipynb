{
 "cells": [
  {
   "cell_type": "code",
   "execution_count": 1,
   "metadata": {},
   "outputs": [],
   "source": [
    "%matplotlib inline\n",
    "import numpy as np\n",
    "import matplotlib.pyplot as plt\n",
    "import pandas as pd"
   ]
  },
  {
   "cell_type": "code",
   "execution_count": 2,
   "metadata": {},
   "outputs": [],
   "source": [
    "mydata1 = np.random.randn(5,5)"
   ]
  },
  {
   "cell_type": "code",
   "execution_count": 3,
   "metadata": {},
   "outputs": [
    {
     "data": {
      "text/plain": [
       "array([[ 0.53670532, -1.00053421, -0.19324737,  0.93933858,  0.31664836],\n",
       "       [ 0.87230778,  0.14526872, -0.24584844, -0.11847016,  0.77387986],\n",
       "       [-0.85518256,  1.22927818,  2.00801074, -0.12372719,  1.09423407],\n",
       "       [-1.97503823,  0.07541333, -0.02633157, -1.24425786,  0.41183036],\n",
       "       [ 1.55851601,  1.21896915,  1.67533837, -1.29845644,  0.34926268]])"
      ]
     },
     "execution_count": 3,
     "metadata": {},
     "output_type": "execute_result"
    }
   ],
   "source": [
    "mydata1"
   ]
  },
  {
   "cell_type": "code",
   "execution_count": 4,
   "metadata": {},
   "outputs": [],
   "source": [
    "df1 = pd.DataFrame(mydata1, index=range(1,6), columns= list(\"ABCDE\"))"
   ]
  },
  {
   "cell_type": "code",
   "execution_count": 5,
   "metadata": {},
   "outputs": [
    {
     "data": {
      "text/html": [
       "<div>\n",
       "<style scoped>\n",
       "    .dataframe tbody tr th:only-of-type {\n",
       "        vertical-align: middle;\n",
       "    }\n",
       "\n",
       "    .dataframe tbody tr th {\n",
       "        vertical-align: top;\n",
       "    }\n",
       "\n",
       "    .dataframe thead th {\n",
       "        text-align: right;\n",
       "    }\n",
       "</style>\n",
       "<table border=\"1\" class=\"dataframe\">\n",
       "  <thead>\n",
       "    <tr style=\"text-align: right;\">\n",
       "      <th></th>\n",
       "      <th>A</th>\n",
       "      <th>B</th>\n",
       "      <th>C</th>\n",
       "      <th>D</th>\n",
       "      <th>E</th>\n",
       "    </tr>\n",
       "  </thead>\n",
       "  <tbody>\n",
       "    <tr>\n",
       "      <td>1</td>\n",
       "      <td>0.536705</td>\n",
       "      <td>-1.000534</td>\n",
       "      <td>-0.193247</td>\n",
       "      <td>0.939339</td>\n",
       "      <td>0.316648</td>\n",
       "    </tr>\n",
       "    <tr>\n",
       "      <td>2</td>\n",
       "      <td>0.872308</td>\n",
       "      <td>0.145269</td>\n",
       "      <td>-0.245848</td>\n",
       "      <td>-0.118470</td>\n",
       "      <td>0.773880</td>\n",
       "    </tr>\n",
       "    <tr>\n",
       "      <td>3</td>\n",
       "      <td>-0.855183</td>\n",
       "      <td>1.229278</td>\n",
       "      <td>2.008011</td>\n",
       "      <td>-0.123727</td>\n",
       "      <td>1.094234</td>\n",
       "    </tr>\n",
       "    <tr>\n",
       "      <td>4</td>\n",
       "      <td>-1.975038</td>\n",
       "      <td>0.075413</td>\n",
       "      <td>-0.026332</td>\n",
       "      <td>-1.244258</td>\n",
       "      <td>0.411830</td>\n",
       "    </tr>\n",
       "    <tr>\n",
       "      <td>5</td>\n",
       "      <td>1.558516</td>\n",
       "      <td>1.218969</td>\n",
       "      <td>1.675338</td>\n",
       "      <td>-1.298456</td>\n",
       "      <td>0.349263</td>\n",
       "    </tr>\n",
       "  </tbody>\n",
       "</table>\n",
       "</div>"
      ],
      "text/plain": [
       "          A         B         C         D         E\n",
       "1  0.536705 -1.000534 -0.193247  0.939339  0.316648\n",
       "2  0.872308  0.145269 -0.245848 -0.118470  0.773880\n",
       "3 -0.855183  1.229278  2.008011 -0.123727  1.094234\n",
       "4 -1.975038  0.075413 -0.026332 -1.244258  0.411830\n",
       "5  1.558516  1.218969  1.675338 -1.298456  0.349263"
      ]
     },
     "execution_count": 5,
     "metadata": {},
     "output_type": "execute_result"
    }
   ],
   "source": [
    "df1"
   ]
  },
  {
   "cell_type": "code",
   "execution_count": 6,
   "metadata": {},
   "outputs": [],
   "source": [
    "mydata2 = np.random.randn(5,5)"
   ]
  },
  {
   "cell_type": "code",
   "execution_count": 7,
   "metadata": {},
   "outputs": [],
   "source": [
    "df2 = pd.DataFrame(mydata2, index=range(1,6), columns= list(\"ABCDE\"))"
   ]
  },
  {
   "cell_type": "code",
   "execution_count": 8,
   "metadata": {},
   "outputs": [
    {
     "data": {
      "text/html": [
       "<div>\n",
       "<style scoped>\n",
       "    .dataframe tbody tr th:only-of-type {\n",
       "        vertical-align: middle;\n",
       "    }\n",
       "\n",
       "    .dataframe tbody tr th {\n",
       "        vertical-align: top;\n",
       "    }\n",
       "\n",
       "    .dataframe thead th {\n",
       "        text-align: right;\n",
       "    }\n",
       "</style>\n",
       "<table border=\"1\" class=\"dataframe\">\n",
       "  <thead>\n",
       "    <tr style=\"text-align: right;\">\n",
       "      <th></th>\n",
       "      <th>A</th>\n",
       "      <th>B</th>\n",
       "      <th>C</th>\n",
       "      <th>D</th>\n",
       "      <th>E</th>\n",
       "    </tr>\n",
       "  </thead>\n",
       "  <tbody>\n",
       "    <tr>\n",
       "      <td>1</td>\n",
       "      <td>1.298698</td>\n",
       "      <td>0.153050</td>\n",
       "      <td>-1.300707</td>\n",
       "      <td>2.681146</td>\n",
       "      <td>1.837571</td>\n",
       "    </tr>\n",
       "    <tr>\n",
       "      <td>2</td>\n",
       "      <td>0.913924</td>\n",
       "      <td>-0.206823</td>\n",
       "      <td>0.428559</td>\n",
       "      <td>1.329717</td>\n",
       "      <td>0.707588</td>\n",
       "    </tr>\n",
       "    <tr>\n",
       "      <td>3</td>\n",
       "      <td>0.066358</td>\n",
       "      <td>0.907337</td>\n",
       "      <td>-0.815121</td>\n",
       "      <td>0.610182</td>\n",
       "      <td>0.178748</td>\n",
       "    </tr>\n",
       "    <tr>\n",
       "      <td>4</td>\n",
       "      <td>0.492181</td>\n",
       "      <td>-2.767817</td>\n",
       "      <td>3.488699</td>\n",
       "      <td>-0.744870</td>\n",
       "      <td>0.398238</td>\n",
       "    </tr>\n",
       "    <tr>\n",
       "      <td>5</td>\n",
       "      <td>0.772691</td>\n",
       "      <td>-0.392217</td>\n",
       "      <td>1.326468</td>\n",
       "      <td>1.362914</td>\n",
       "      <td>0.573289</td>\n",
       "    </tr>\n",
       "  </tbody>\n",
       "</table>\n",
       "</div>"
      ],
      "text/plain": [
       "          A         B         C         D         E\n",
       "1  1.298698  0.153050 -1.300707  2.681146  1.837571\n",
       "2  0.913924 -0.206823  0.428559  1.329717  0.707588\n",
       "3  0.066358  0.907337 -0.815121  0.610182  0.178748\n",
       "4  0.492181 -2.767817  3.488699 -0.744870  0.398238\n",
       "5  0.772691 -0.392217  1.326468  1.362914  0.573289"
      ]
     },
     "execution_count": 8,
     "metadata": {},
     "output_type": "execute_result"
    }
   ],
   "source": [
    "df2"
   ]
  },
  {
   "cell_type": "code",
   "execution_count": 9,
   "metadata": {},
   "outputs": [],
   "source": [
    "df3 = pd.concat([df1, df2], axis=1, )"
   ]
  },
  {
   "cell_type": "code",
   "execution_count": 10,
   "metadata": {},
   "outputs": [
    {
     "data": {
      "text/html": [
       "<div>\n",
       "<style scoped>\n",
       "    .dataframe tbody tr th:only-of-type {\n",
       "        vertical-align: middle;\n",
       "    }\n",
       "\n",
       "    .dataframe tbody tr th {\n",
       "        vertical-align: top;\n",
       "    }\n",
       "\n",
       "    .dataframe thead th {\n",
       "        text-align: right;\n",
       "    }\n",
       "</style>\n",
       "<table border=\"1\" class=\"dataframe\">\n",
       "  <thead>\n",
       "    <tr style=\"text-align: right;\">\n",
       "      <th></th>\n",
       "      <th>A</th>\n",
       "      <th>B</th>\n",
       "      <th>C</th>\n",
       "      <th>D</th>\n",
       "      <th>E</th>\n",
       "      <th>A</th>\n",
       "      <th>B</th>\n",
       "      <th>C</th>\n",
       "      <th>D</th>\n",
       "      <th>E</th>\n",
       "    </tr>\n",
       "  </thead>\n",
       "  <tbody>\n",
       "    <tr>\n",
       "      <td>1</td>\n",
       "      <td>0.536705</td>\n",
       "      <td>-1.000534</td>\n",
       "      <td>-0.193247</td>\n",
       "      <td>0.939339</td>\n",
       "      <td>0.316648</td>\n",
       "      <td>1.298698</td>\n",
       "      <td>0.153050</td>\n",
       "      <td>-1.300707</td>\n",
       "      <td>2.681146</td>\n",
       "      <td>1.837571</td>\n",
       "    </tr>\n",
       "    <tr>\n",
       "      <td>2</td>\n",
       "      <td>0.872308</td>\n",
       "      <td>0.145269</td>\n",
       "      <td>-0.245848</td>\n",
       "      <td>-0.118470</td>\n",
       "      <td>0.773880</td>\n",
       "      <td>0.913924</td>\n",
       "      <td>-0.206823</td>\n",
       "      <td>0.428559</td>\n",
       "      <td>1.329717</td>\n",
       "      <td>0.707588</td>\n",
       "    </tr>\n",
       "    <tr>\n",
       "      <td>3</td>\n",
       "      <td>-0.855183</td>\n",
       "      <td>1.229278</td>\n",
       "      <td>2.008011</td>\n",
       "      <td>-0.123727</td>\n",
       "      <td>1.094234</td>\n",
       "      <td>0.066358</td>\n",
       "      <td>0.907337</td>\n",
       "      <td>-0.815121</td>\n",
       "      <td>0.610182</td>\n",
       "      <td>0.178748</td>\n",
       "    </tr>\n",
       "    <tr>\n",
       "      <td>4</td>\n",
       "      <td>-1.975038</td>\n",
       "      <td>0.075413</td>\n",
       "      <td>-0.026332</td>\n",
       "      <td>-1.244258</td>\n",
       "      <td>0.411830</td>\n",
       "      <td>0.492181</td>\n",
       "      <td>-2.767817</td>\n",
       "      <td>3.488699</td>\n",
       "      <td>-0.744870</td>\n",
       "      <td>0.398238</td>\n",
       "    </tr>\n",
       "    <tr>\n",
       "      <td>5</td>\n",
       "      <td>1.558516</td>\n",
       "      <td>1.218969</td>\n",
       "      <td>1.675338</td>\n",
       "      <td>-1.298456</td>\n",
       "      <td>0.349263</td>\n",
       "      <td>0.772691</td>\n",
       "      <td>-0.392217</td>\n",
       "      <td>1.326468</td>\n",
       "      <td>1.362914</td>\n",
       "      <td>0.573289</td>\n",
       "    </tr>\n",
       "  </tbody>\n",
       "</table>\n",
       "</div>"
      ],
      "text/plain": [
       "          A         B         C         D         E         A         B  \\\n",
       "1  0.536705 -1.000534 -0.193247  0.939339  0.316648  1.298698  0.153050   \n",
       "2  0.872308  0.145269 -0.245848 -0.118470  0.773880  0.913924 -0.206823   \n",
       "3 -0.855183  1.229278  2.008011 -0.123727  1.094234  0.066358  0.907337   \n",
       "4 -1.975038  0.075413 -0.026332 -1.244258  0.411830  0.492181 -2.767817   \n",
       "5  1.558516  1.218969  1.675338 -1.298456  0.349263  0.772691 -0.392217   \n",
       "\n",
       "          C         D         E  \n",
       "1 -1.300707  2.681146  1.837571  \n",
       "2  0.428559  1.329717  0.707588  \n",
       "3 -0.815121  0.610182  0.178748  \n",
       "4  3.488699 -0.744870  0.398238  \n",
       "5  1.326468  1.362914  0.573289  "
      ]
     },
     "execution_count": 10,
     "metadata": {},
     "output_type": "execute_result"
    }
   ],
   "source": [
    "df3"
   ]
  },
  {
   "cell_type": "code",
   "execution_count": 16,
   "metadata": {},
   "outputs": [
    {
     "data": {
      "text/plain": [
       "[<matplotlib.lines.Line2D at 0x11f6cee10>,\n",
       " <matplotlib.lines.Line2D at 0x11f6dc110>,\n",
       " <matplotlib.lines.Line2D at 0x11f6dc2d0>,\n",
       " <matplotlib.lines.Line2D at 0x11f6dc490>,\n",
       " <matplotlib.lines.Line2D at 0x11f6dc650>,\n",
       " <matplotlib.lines.Line2D at 0x11f6dc810>,\n",
       " <matplotlib.lines.Line2D at 0x11f6dca50>,\n",
       " <matplotlib.lines.Line2D at 0x11f6dcc10>,\n",
       " <matplotlib.lines.Line2D at 0x11f6dcdd0>,\n",
       " <matplotlib.lines.Line2D at 0x11f6dc850>]"
      ]
     },
     "execution_count": 16,
     "metadata": {},
     "output_type": "execute_result"
    },
    {
     "data": {
      "image/png": "[encoded data removed]",
      "text/plain": [
       "<Figure size 432x288 with 1 Axes>"
      ]
     },
     "metadata": {
      "needs_background": "light"
     },
     "output_type": "display_data"
    }
   ],
   "source": [
    "plt.plot(df3)"
   ]
  },
  {
   "cell_type": "code",
   "execution_count": null,
   "metadata": {},
   "outputs": [],
   "source": []
  }
 ],
 "metadata": {
  "kernelspec": {
   "display_name": "Python 3",
   "language": "python",
   "name": "python3"
  },
  "language_info": {
   "codemirror_mode": {
    "name": "ipython",
    "version": 3
   },
   "file_extension": ".py",
   "mimetype": "text/x-python",
   "name": "python",
   "nbconvert_exporter": "python",
   "pygments_lexer": "ipython3",
   "version": "3.7.4"
  }
 },
 "nbformat": 4,
 "nbformat_minor": 2
}
